{
 "cells": [
  {
   "cell_type": "code",
   "execution_count": null,
   "id": "c5a0cf94",
   "metadata": {},
   "outputs": [],
   "source": [
    "#%%timeit\n",
    "import pandas as pd\n",
    "import numpy as np\n",
    "import re\n",
    "from fuzzywuzzy import process, fuzz\n",
    "\n",
    "# --- entity resolution --- #\n",
    "resolution_threshold = 84\n",
    "unique_remarks = remark_df['Remarks'].unique().tolist()\n",
    "score_sort = [(x,) + i\n",
    "             for x in unique_remarks \n",
    "             for i in process.extract(x, unique_remarks, scorer=fuzz.token_sort_ratio)]\n",
    "similarity_sort = pd.DataFrame(score_sort, columns=['remarks_sort','match_sort','score_sort'])\n",
    "similarity_sort['sorted_remarks_sort'] = np.minimum(similarity_sort['remarks_sort'], similarity_sort['match_sort'])\n",
    "#Pick values\n",
    "high_score_set = similarity_sort[(similarity_sort['score_sort'] >= resolution_threshold) & \n",
    "                                    (similarity_sort['remarks_sort'] != similarity_sort['match_sort']) & \n",
    "                                    (similarity_sort['sorted_remarks_sort'] != similarity_sort['match_sort'])]\n",
    "#Drop the representative value column\n",
    "high_score_set = high_score_set.drop('sorted_remarks_sort',axis=1).copy()\n",
    "pd.set_option('display.max_rows', None)\n",
    "pd.set_option('display.max_colwidth', None)\n",
    "final_reso_set = high_score_set.groupby(['match_sort','score_sort']).agg(\n",
    "                       {'remarks_sort': ', '.join}).sort_values(\n",
    "                       ['score_sort'], ascending=False)"
   ]
  }
 ],
 "metadata": {
  "kernelspec": {
   "display_name": "Python 3",
   "language": "python",
   "name": "python3"
  },
  "language_info": {
   "codemirror_mode": {
    "name": "ipython",
    "version": 3
   },
   "file_extension": ".py",
   "mimetype": "text/x-python",
   "name": "python",
   "nbconvert_exporter": "python",
   "pygments_lexer": "ipython3",
   "version": "3.8.8"
  }
 },
 "nbformat": 4,
 "nbformat_minor": 5
}
